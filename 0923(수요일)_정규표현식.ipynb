{
  "nbformat": 4,
  "nbformat_minor": 0,
  "metadata": {
    "colab": {
      "provenance": [],
      "authorship_tag": "ABX9TyPGBBixA6Fm/iQjuxhFhAcn",
      "include_colab_link": true
    },
    "kernelspec": {
      "name": "python3",
      "display_name": "Python 3"
    },
    "language_info": {
      "name": "python"
    }
  },
  "cells": [
    {
      "cell_type": "markdown",
      "metadata": {
        "id": "view-in-github",
        "colab_type": "text"
      },
      "source": [
        "<a href=\"https://colab.research.google.com/github/dylankim98/0922__exer/blob/main/0923(%EC%88%98%EC%9A%94%EC%9D%BC)_%EC%A0%95%EA%B7%9C%ED%91%9C%ED%98%84%EC%8B%9D.ipynb\" target=\"_parent\"><img src=\"https://colab.research.google.com/assets/colab-badge.svg\" alt=\"Open In Colab\"/></a>"
      ]
    },
    {
      "cell_type": "markdown",
      "source": [
        "# 0923(화)\n",
        "- 모든 문자는 소문자로\n",
        "- 모든 기호 제거\n",
        "- 단어 단위 분리\n",
        "    - 단어별 빈도수를 dict로 저장\n",
        "    - 이때 dict은 desc하고 다시 reset_index\n",
        "    - 텍스트 input받으면 정수 return하게"
      ],
      "metadata": {
        "id": "Y18exwVKMSiD"
      }
    },
    {
      "cell_type": "code",
      "execution_count": 5,
      "metadata": {
        "colab": {
          "base_uri": "https://localhost:8080/"
        },
        "id": "SUz1VAYsLxkf",
        "outputId": "bf367740-1993-4115-b1b3-6f1523980032"
      },
      "outputs": [
        {
          "output_type": "stream",
          "name": "stdout",
          "text": [
            "[2, 120, 3, 536]\n"
          ]
        }
      ],
      "source": [
        "# 0923(화)\n",
        "# - 모든 문자는 소문자로\n",
        "# - 모든 기호 제거\n",
        "# - 단어 단위 분리\n",
        "#     - 단어별 빈도수를 dict로 저장\n",
        "#     - 이때 dict은 desc하고 다시 reset_index\n",
        "#     - 텍스트 input받으면 정수 return하게\n",
        "\n",
        "import re\n",
        "from collections import Counter\n",
        "\n",
        "class Vocab:\n",
        "    def __init__(self, path):\n",
        "        text = open(path, encoding=\"utf-8\").read().lower()\n",
        "        text = re.sub(r\"[^a-z0-9\\s]\", \" \", text)\n",
        "        tokens = text.split()\n",
        "        freq = Counter(tokens)\n",
        "\n",
        "        def sort_key(item):\n",
        "            word, count = item\n",
        "            return (-count, word)\n",
        "\n",
        "        sorted_items = sorted(freq.items(), key=sort_key)\n",
        "\n",
        "        # 단어에 번호 매기기\n",
        "        self.vocab = {}\n",
        "        for i, (word, count) in enumerate(sorted_items):\n",
        "            self.vocab[word] = i\n",
        "\n",
        "    def encode(self, sentence):\n",
        "        s = re.sub(r\"[^a-z0-9\\s]\", \" \", sentence.lower()).split()\n",
        "        return [self.vocab[w] for w in s if w in self.vocab]\n",
        "\n",
        "# 실행 예시\n",
        "v = Vocab(\"Avengers.txt\")\n",
        "# print(v.vocab)\n",
        "print(v.encode(\"i am a boy\"))"
      ]
    },
    {
      "cell_type": "code",
      "source": [
        "results = []\n",
        "for w in s:\n",
        "    if w in self.vocab : 사전에 있는 단어만\n",
        "        results.append(self.vocab[w]) # 번호를 찾아서 추가하겠다.\n",
        "                  # 사전에 없는 단어는 무시한다."
      ],
      "metadata": {
        "id": "xbnPBQiERCph"
      },
      "execution_count": null,
      "outputs": []
    }
  ]
}